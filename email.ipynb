{
  "nbformat": 4,
  "nbformat_minor": 0,
  "metadata": {
    "colab": {
      "provenance": [],
      "authorship_tag": "ABX9TyPB635ChweK6+BCvJcjHKDu",
      "include_colab_link": true
    },
    "kernelspec": {
      "name": "python3",
      "display_name": "Python 3"
    },
    "language_info": {
      "name": "python"
    }
  },
  "cells": [
    {
      "cell_type": "markdown",
      "metadata": {
        "id": "view-in-github",
        "colab_type": "text"
      },
      "source": [
        "<a href=\"https://colab.research.google.com/github/BarchilhaMateus/Quant-Finance-Studies-/blob/main/email.ipynb\" target=\"_parent\"><img src=\"https://colab.research.google.com/assets/colab-badge.svg\" alt=\"Open In Colab\"/></a>"
      ]
    },
    {
      "cell_type": "code",
      "execution_count": null,
      "metadata": {
        "id": "y_7P5nNls_bq"
      },
      "outputs": [],
      "source": [
        "# Importar as bibliotecas necessárias\n",
        "import xlwings as xw\n",
        "import win32com.client as win32\n",
        "\n",
        "# Definindo uma função para ler o conteúdo do Excel\n",
        "def read_excel_content(excel_path, range_name):\n",
        "    \"\"\"\n",
        "    Abre o arquivo Excel especificado, lê o conteúdo do range nomeado e retorna o conteúdo como uma string.\n",
        "\n",
        "    Parâmetros:\n",
        "    - excel_path (str): Caminho para o arquivo Excel.\n",
        "    - range_name (str): Nome do range que contém o conteúdo a ser lido.\n",
        "\n",
        "    Retorna:\n",
        "    - str: Conteúdo do range especificado no Excel.\n",
        "    \"\"\"\n",
        "    # Abrindo o arquivo Excel\n",
        "    app = xw.App(visible=False)\n",
        "    book = app.books.open(excel_path)\n",
        "\n",
        "    # Lendo o conteúdo do range especificado\n",
        "    content = book.sheets[0].range(range_name).value\n",
        "\n",
        "    # Fechando o arquivo Excel\n",
        "    book.close()\n",
        "    app.quit()\n",
        "\n",
        "    # Retornando o conteúdo como uma string (simplificação; pode precisar de ajustes dependendo do conteúdo)\n",
        "    return str(content)\n",
        "\n",
        "# Definindo uma função para criar e enviar um email com o Outlook\n",
        "def send_email_with_outlook(subject, body, recipients, cc_recipients, attachment_path):\n",
        "    \"\"\"\n",
        "    Cria e envia um email usando o Outlook com o conteúdo especificado.\n",
        "\n",
        "    Parâmetros:\n",
        "    - subject (str): Título do e-mail.\n",
        "    - body (str): Corpo do e-mail.\n",
        "    - recipients (list): Lista de destinatários do e-mail.\n",
        "    - cc_recipients (list): Lista de destinatários em cópia do e-mail.\n",
        "    - attachment_path (str): Caminho para o arquivo a ser anexado.\n",
        "    \"\"\"\n",
        "    # Inicializando o cliente do Outlook\n",
        "    outlook = win32.Dispatch('outlook.application')\n",
        "    mail = outlook.CreateItem(0)\n",
        "\n",
        "    # Configurando os destinatários, cópias, assunto, corpo e anexo\n",
        "    mail.To = '; '.join(recipients)\n",
        "    mail.CC = '; '.join(cc_recipients)\n",
        "    mail.Subject = subject\n",
        "    mail.Body = body\n",
        "    mail.Attachments.Add(attachment_path)\n",
        "\n",
        "    # Enviando o e-mail\n",
        "    mail.Send()\n",
        "\n",
        "\n",
        " content = read_excel_content('caminho_para_o_arquivo.xlsx', 'nome_do_range')\n",
        " send_email_with_outlook('Assunto do Email', content, ['destinatario@example.com'], ['cc@example.com'], 'caminho_para_o_pdf_do_power_bi.pdf')\n"
      ]
    }
  ]
}