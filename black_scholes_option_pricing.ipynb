{
  "cells": [
    {
      "cell_type": "markdown",
      "metadata": {
        "id": "view-in-github",
        "colab_type": "text"
      },
      "source": [
        "<a href=\"https://colab.research.google.com/github/BarchilhaMateus/Quant-Finance-Studies-/blob/main/black_scholes_option_pricing.ipynb\" target=\"_parent\"><img src=\"https://colab.research.google.com/assets/colab-badge.svg\" alt=\"Open In Colab\"/></a>"
      ]
    },
    {
      "cell_type": "markdown",
      "metadata": {
        "id": "cE1jbsORN3oU"
      },
      "source": [
        "Black Scholes Formula is $$\\frac{\\partial V}{\\partial t} + \\frac{1}{2} \\sigma^2 S^2 \\frac{\\partial^2 V}{\\partial S^2}+rS \\frac{\\partial V}{\\partial S} - rV = 0$$"
      ]
    },
    {
      "cell_type": "markdown",
      "metadata": {
        "id": "gbXWOymiN3oV"
      },
      "source": [
        "Solving the above, we know thtat the value of a call option for a non-dividend paying stock is:\n",
        "$$C = SN(d_1) - Ke^{-rt}N(d_2)$$"
      ]
    },
    {
      "cell_type": "markdown",
      "metadata": {
        "id": "HN3b_YxzN3oW"
      },
      "source": [
        "and the corresponding put option price is\n",
        "$$P = Ke{-rt}N(-d_2) - SN(d_2)$$"
      ]
    },
    {
      "cell_type": "markdown",
      "metadata": {
        "id": "ns51UYdUN3oW"
      },
      "source": [
        "where\n",
        "$$d_1 = \\frac{1}{\\sigma \\sqrt{t}} \\left[ln \\left(\\frac{S}{K} \\right)+ \\left(r + \\frac{\\sigma^2}{2} \\right)t \\right]"
      ]
    },
    {
      "cell_type": "markdown",
      "metadata": {
        "id": "2u8LJctNN3oW"
      },
      "source": [
        "$$d2 = d1 - \\sigma \\sqrt{t}"
      ]
    },
    {
      "cell_type": "markdown",
      "metadata": {
        "id": "wS-p3rN8N3oW"
      },
      "source": [
        "$$N(x) = \\frac{1}{\\sqrt{2 \\pi}} \\int \\limits_{- \\infty}^{x} e^{-\\frac{1}{2}x^2}dx$$"
      ]
    },
    {
      "cell_type": "markdown",
      "metadata": {
        "id": "YtCFCnqPN3oW"
      },
      "source": [
        "S is the spot price of the underlying asset\n",
        "K is the strike price\n",
        "r is the annualized continuous compounded risk free rate\n",
        "\\sigma is the volatility of returns of the underlying asset\n",
        "t is time to maturity (expressed in years)\n",
        "N(x) is the standard normal cumulative function"
      ]
    },
    {
      "cell_type": "code",
      "execution_count": null,
      "metadata": {
        "id": "VBvz3CCkN3oW"
      },
      "outputs": [],
      "source": [
        "#importing required libraries\n",
        "import pandas as pd\n",
        "from numpy import *\n",
        "import yfinance as yf\n",
        "from scipy.stats import norm\n",
        "\n",
        "#plotting\n",
        "import matplotlib.pyplot as plt\n",
        "from tabulate import tabulate\n",
        "\n",
        "#set max row to 300\n",
        "pd.set_option('display.max_rows', 300)"
      ]
    },
    {
      "cell_type": "code",
      "execution_count": null,
      "metadata": {
        "id": "ksw6NTGBN3oX",
        "outputId": "228f6863-85e2-4798-b527-b9f71dedc0ba"
      },
      "outputs": [
        {
          "name": "stdout",
          "output_type": "stream",
          "text": [
            "╒════════════════╤══════════╤══════════╤══════════╤═══════════╤══════════╕\n",
            "│   Option Price │    Delta │    Theta │     Vega │     Gamma │      Rho │\n",
            "╞════════════════╪══════════╪══════════╪══════════╪═══════════╪══════════╡\n",
            "│        6.88873 │ 0.597734 │ -5.47898 │ 0.273587 │ 0.0273587 │ 0.264424 │\n",
            "╘════════════════╧══════════╧══════════╧══════════╧═══════════╧══════════╛\n"
          ]
        }
      ],
      "source": [
        "class BS:\n",
        "\n",
        "    \"\"\"\n",
        "    This is a class for Options contract for pricing European options on stocks without dividends.\n",
        "\n",
        "    Attributes:\n",
        "        spot          : int or float\n",
        "        strike        : int or float\n",
        "        rate          : float\n",
        "        dte           : int or float [days to expiration in number of years]\n",
        "        volatility    : float\n",
        "    \"\"\"\n",
        "\n",
        "    def __init__(self, spot, strike, rate, dte, volatility):\n",
        "        self.spot = spot  # spot price\n",
        "        self.strike = strike  # option strike\n",
        "        self.rate = rate  # interest rate\n",
        "        self.dte = dte  # days to expiration\n",
        "        self.volatility = volatility  # volatility of underlying asset\n",
        "        self._a_ = self.volatility * sqrt(self.dte)  # volatility * sqrt(dte)\n",
        "\n",
        "        if self.strike == 0:\n",
        "            raise ZeroDivisionError('The strike price cannot be zero')\n",
        "\n",
        "        else:\n",
        "            self._d1_ = (log(self.spot / self.strike) + \\\n",
        "                         (self.rate + (self.volatility ** 2) / 2) * self.dte) / self._a_\n",
        "\n",
        "        self._d2_ = self._d1_ - self._a_\n",
        "        self._b_ = e ** -(self.rate * self.dte)\n",
        "\n",
        "        # the dict atribute\n",
        "        # '''Contains all the attributes defined for the object itself. It maps the attribute name to its value.\n",
        "\n",
        "        for i in ['Callprice', 'putprice', 'callDelta', 'putDelta', 'callTheta', 'putTheta', 'vega', 'gamma', 'callRho', 'putRho']:\n",
        "            self.__dict__[i] = None\n",
        "        [self.Callprice, self.putprice] = self._price()\n",
        "        [self.callDelta, self.putDelta] = self._delta()\n",
        "        [self.callTheta, self.putTheta] = self._theta()\n",
        "        [self.callRho, self.putRho] = self._rho()\n",
        "        self.vega = self._vega()\n",
        "        self.gamma = self._gamma()\n",
        "\n",
        "    def _price(self):\n",
        "        \"\"\"\n",
        "        This method calculates the price of a call and put option.\n",
        "        \"\"\"\n",
        "        if self.volatility == 0 or self.dte == 0:\n",
        "            call = maximum(0.0, self.spot - self.strike)\n",
        "            put = maximum(0.0, self.strike - self.spot)\n",
        "        else:\n",
        "            call = self.spot * norm.cdf(self._d1_) - self.strike * e ** (-self.rate * self.dte) * norm.cdf(self._d2_)\n",
        "\n",
        "            put = self.strike * e ** (-self.rate * self.dte) * norm.cdf(-self._d2_) - self.spot * norm.cdf(-self._d1_)\n",
        "\n",
        "        return [call, put]\n",
        "\n",
        "    def _delta(self):\n",
        "        \"\"\"\n",
        "        This method calculates the delta of a call and put option.\n",
        "        \"\"\"\n",
        "        if self.volatility == 0 or self.dte == 0:\n",
        "            callDelta = 1.0 if self.spot > self.strike else 0.0\n",
        "            putDelta = -1.0 if self.spot < self.strike else 0.0\n",
        "        else:\n",
        "            callDelta = norm.cdf(self._d1_)\n",
        "            putDelta = -norm.cdf(-self._d1_)\n",
        "        return [callDelta, putDelta]\n",
        "\n",
        "    # Option vegas\n",
        "    def _vega(self):\n",
        "        \"\"\"\n",
        "        This method calculates the vega of a call and put option.\n",
        "        \"\"\"\n",
        "        if self.volatility == 0 or self.dte == 0:\n",
        "            vega = 0.0\n",
        "        else:\n",
        "            vega = self.spot * norm.pdf(self._d1_) * sqrt(self.dte) / 100\n",
        "        return vega\n",
        "\n",
        "    # Option Theta\n",
        "    def _theta(self):\n",
        "        \"\"\"\n",
        "        This method calculates the theta of a call and put option.\n",
        "        \"\"\"\n",
        "\n",
        "        callTheta = -self.spot * norm.pdf(self._d1_) * self.volatility / (2 * sqrt(self.dte)) - self.rate * self.strike * self._b_ * norm.cdf(self._d2_) / 365\n",
        "        putTheta = -self.spot * norm.pdf(self._d1_) * self.volatility / (2 * sqrt(self.dte)) + self.rate * self.strike * self._b_ * norm.cdf(-self._d2_) / 365\n",
        "        return [callTheta, putTheta]\n",
        "\n",
        "    # Option Rho\n",
        "    def _rho(self):\n",
        "        \"\"\"\n",
        "        This method calculates the rho of a call and put option.\n",
        "        \"\"\"\n",
        "        callRho = self.strike * self.dte * self._b_ * norm.cdf(self._d2_) / 100\n",
        "        putRho = -self.strike * self.dte * self._b_ * norm.cdf(-self._d2_) / 100\n",
        "        return [callRho, putRho]\n",
        "\n",
        "    # Option Gamma\n",
        "    def _gamma(self):\n",
        "        \"\"\"\n",
        "        This method calculates the gamma of a call and put option.\n",
        "        \"\"\"\n",
        "        if self.volatility == 0 or self.dte == 0:\n",
        "            gamma = 0.0\n",
        "        else:\n",
        "            gamma = norm.pdf(self._d1_) / (self.spot * self._a_)\n",
        "        return gamma\n",
        "\n",
        "\n",
        "# initialize option\n",
        "option = BS(100, 100, 0.05, 0.5, 0.2)\n",
        "\n",
        "header = ['Option Price', 'Delta', 'Theta', 'Vega', 'Gamma', 'Rho']\n",
        "table = [[option.Callprice, option.callDelta, option.callTheta, option.vega, option.gamma, option.callRho]]\n",
        "\n",
        "print(tabulate(table, headers=header, tablefmt='fancy_grid'))\n"
      ]
    },
    {
      "cell_type": "markdown",
      "metadata": {
        "id": "bsxtmuL4N3oX"
      },
      "source": [
        "VALE OPTION"
      ]
    },
    {
      "cell_type": "code",
      "execution_count": null,
      "metadata": {
        "id": "MUBSiDi2N3oX"
      },
      "outputs": [],
      "source": [
        "aple = yf.Ticker('AAPL')\n",
        "options = aple.option_chain('2023-05-05')"
      ]
    },
    {
      "cell_type": "code",
      "execution_count": null,
      "metadata": {
        "id": "YRn3z7ygN3oY",
        "outputId": "193b5f53-2406-400f-fc54-0dd6807340a9"
      },
      "outputs": [
        {
          "data": {
            "text/plain": [
              "0.0821917808219178"
            ]
          },
          "execution_count": 29,
          "metadata": {},
          "output_type": "execute_result"
        }
      ],
      "source": [
        "from datetime import datetime\n",
        "(datetime(2023, 5, 5) - datetime.now()).days / 365"
      ]
    },
    {
      "cell_type": "code",
      "execution_count": null,
      "metadata": {
        "id": "LBNZNaLoN3oY",
        "outputId": "54f5c44f-a331-41c3-a82d-bdb1ec417e75"
      },
      "outputs": [
        {
          "name": "stdout",
          "output_type": "stream",
          "text": [
            "Option price of AAPL 400 call option is 21.8243991019678\n"
          ]
        }
      ],
      "source": [
        "#may 2023 400 apple call option price\n",
        "spot = 400; strike = 400; rate = 0.0; dte = 0.575; volatility = 0.1805\n",
        "\n",
        "aple_opt = BS(spot, strike, rate, dte, volatility)\n",
        "print(f'Option price of AAPL 400 call option is {aple_opt.Callprice}')"
      ]
    },
    {
      "cell_type": "code",
      "execution_count": null,
      "metadata": {
        "id": "c6lSChqRN3oY",
        "outputId": "acc7b2c4-4e63-4aee-ffbf-c9064d0b3da7"
      },
      "outputs": [
        {
          "data": {
            "text/html": [
              "<div>\n",
              "<style scoped>\n",
              "    .dataframe tbody tr th:only-of-type {\n",
              "        vertical-align: middle;\n",
              "    }\n",
              "\n",
              "    .dataframe tbody tr th {\n",
              "        vertical-align: top;\n",
              "    }\n",
              "\n",
              "    .dataframe thead th {\n",
              "        text-align: right;\n",
              "    }\n",
              "</style>\n",
              "<table border=\"1\" class=\"dataframe\">\n",
              "  <thead>\n",
              "    <tr style=\"text-align: right;\">\n",
              "      <th></th>\n",
              "      <th>contractSymbol</th>\n",
              "      <th>lastTradeDate</th>\n",
              "      <th>strike</th>\n",
              "      <th>lastPrice</th>\n",
              "      <th>bid</th>\n",
              "      <th>ask</th>\n",
              "      <th>change</th>\n",
              "      <th>percentChange</th>\n",
              "      <th>volume</th>\n",
              "      <th>openInterest</th>\n",
              "      <th>impliedVolatility</th>\n",
              "      <th>inTheMoney</th>\n",
              "      <th>contractSize</th>\n",
              "      <th>currency</th>\n",
              "    </tr>\n",
              "  </thead>\n",
              "  <tbody>\n",
              "    <tr>\n",
              "      <th>0</th>\n",
              "      <td>AAPL230505C00050000</td>\n",
              "      <td>2023-03-27 17:16:07+00:00</td>\n",
              "      <td>50.0</td>\n",
              "      <td>108.27</td>\n",
              "      <td>115.60</td>\n",
              "      <td>116.1</td>\n",
              "      <td>0.0</td>\n",
              "      <td>0.0</td>\n",
              "      <td>NaN</td>\n",
              "      <td>1</td>\n",
              "      <td>1.851563</td>\n",
              "      <td>True</td>\n",
              "      <td>REGULAR</td>\n",
              "      <td>USD</td>\n",
              "    </tr>\n",
              "    <tr>\n",
              "      <th>1</th>\n",
              "      <td>AAPL230505C00095000</td>\n",
              "      <td>2023-03-29 19:37:30+00:00</td>\n",
              "      <td>95.0</td>\n",
              "      <td>66.34</td>\n",
              "      <td>70.80</td>\n",
              "      <td>71.3</td>\n",
              "      <td>0.0</td>\n",
              "      <td>0.0</td>\n",
              "      <td>NaN</td>\n",
              "      <td>1</td>\n",
              "      <td>1.010747</td>\n",
              "      <td>True</td>\n",
              "      <td>REGULAR</td>\n",
              "      <td>USD</td>\n",
              "    </tr>\n",
              "    <tr>\n",
              "      <th>2</th>\n",
              "      <td>AAPL230505C00120000</td>\n",
              "      <td>2023-04-03 14:50:13+00:00</td>\n",
              "      <td>120.0</td>\n",
              "      <td>45.52</td>\n",
              "      <td>46.00</td>\n",
              "      <td>46.5</td>\n",
              "      <td>0.0</td>\n",
              "      <td>0.0</td>\n",
              "      <td>1.0</td>\n",
              "      <td>3</td>\n",
              "      <td>0.682620</td>\n",
              "      <td>True</td>\n",
              "      <td>REGULAR</td>\n",
              "      <td>USD</td>\n",
              "    </tr>\n",
              "    <tr>\n",
              "      <th>3</th>\n",
              "      <td>AAPL230505C00125000</td>\n",
              "      <td>2023-03-28 16:53:56+00:00</td>\n",
              "      <td>125.0</td>\n",
              "      <td>32.60</td>\n",
              "      <td>41.05</td>\n",
              "      <td>41.6</td>\n",
              "      <td>0.0</td>\n",
              "      <td>0.0</td>\n",
              "      <td>NaN</td>\n",
              "      <td>1</td>\n",
              "      <td>0.625736</td>\n",
              "      <td>True</td>\n",
              "      <td>REGULAR</td>\n",
              "      <td>USD</td>\n",
              "    </tr>\n",
              "    <tr>\n",
              "      <th>4</th>\n",
              "      <td>AAPL230505C00130000</td>\n",
              "      <td>2023-03-31 13:31:31+00:00</td>\n",
              "      <td>130.0</td>\n",
              "      <td>33.45</td>\n",
              "      <td>36.15</td>\n",
              "      <td>36.7</td>\n",
              "      <td>0.0</td>\n",
              "      <td>0.0</td>\n",
              "      <td>2.0</td>\n",
              "      <td>4</td>\n",
              "      <td>0.571782</td>\n",
              "      <td>True</td>\n",
              "      <td>REGULAR</td>\n",
              "      <td>USD</td>\n",
              "    </tr>\n",
              "  </tbody>\n",
              "</table>\n",
              "</div>"
            ],
            "text/plain": [
              "        contractSymbol             lastTradeDate  strike  lastPrice     bid  \\\n",
              "0  AAPL230505C00050000 2023-03-27 17:16:07+00:00    50.0     108.27  115.60   \n",
              "1  AAPL230505C00095000 2023-03-29 19:37:30+00:00    95.0      66.34   70.80   \n",
              "2  AAPL230505C00120000 2023-04-03 14:50:13+00:00   120.0      45.52   46.00   \n",
              "3  AAPL230505C00125000 2023-03-28 16:53:56+00:00   125.0      32.60   41.05   \n",
              "4  AAPL230505C00130000 2023-03-31 13:31:31+00:00   130.0      33.45   36.15   \n",
              "\n",
              "     ask  change  percentChange  volume  openInterest  impliedVolatility  \\\n",
              "0  116.1     0.0            0.0     NaN             1           1.851563   \n",
              "1   71.3     0.0            0.0     NaN             1           1.010747   \n",
              "2   46.5     0.0            0.0     1.0             3           0.682620   \n",
              "3   41.6     0.0            0.0     NaN             1           0.625736   \n",
              "4   36.7     0.0            0.0     2.0             4           0.571782   \n",
              "\n",
              "   inTheMoney contractSize currency  \n",
              "0        True      REGULAR      USD  \n",
              "1        True      REGULAR      USD  \n",
              "2        True      REGULAR      USD  \n",
              "3        True      REGULAR      USD  \n",
              "4        True      REGULAR      USD  "
            ]
          },
          "execution_count": 31,
          "metadata": {},
          "output_type": "execute_result"
        }
      ],
      "source": [
        "options.calls.head()"
      ]
    },
    {
      "cell_type": "code",
      "execution_count": null,
      "metadata": {
        "id": "3w_ZOgRnN3oY",
        "outputId": "82c75142-b05e-4541-9dce-971fb3e20e91"
      },
      "outputs": [
        {
          "data": {
            "text/html": [
              "<div>\n",
              "<style scoped>\n",
              "    .dataframe tbody tr th:only-of-type {\n",
              "        vertical-align: middle;\n",
              "    }\n",
              "\n",
              "    .dataframe tbody tr th {\n",
              "        vertical-align: top;\n",
              "    }\n",
              "\n",
              "    .dataframe thead th {\n",
              "        text-align: right;\n",
              "    }\n",
              "</style>\n",
              "<table border=\"1\" class=\"dataframe\">\n",
              "  <thead>\n",
              "    <tr style=\"text-align: right;\">\n",
              "      <th></th>\n",
              "      <th>strike</th>\n",
              "      <th>lastPrice</th>\n",
              "      <th>volume</th>\n",
              "      <th>impliedVolatility</th>\n",
              "      <th>Delta</th>\n",
              "      <th>Gamma</th>\n",
              "      <th>Theta</th>\n",
              "      <th>Vega</th>\n",
              "      <th>Rho</th>\n",
              "    </tr>\n",
              "  </thead>\n",
              "  <tbody>\n",
              "    <tr>\n",
              "      <th>0</th>\n",
              "      <td>120.0</td>\n",
              "      <td>45.52</td>\n",
              "      <td>1.0</td>\n",
              "      <td>0.682620</td>\n",
              "      <td>0.995128</td>\n",
              "      <td>0.000068</td>\n",
              "      <td>-2.543945</td>\n",
              "      <td>0.042857</td>\n",
              "      <td>0.0</td>\n",
              "    </tr>\n",
              "    <tr>\n",
              "      <th>1</th>\n",
              "      <td>125.0</td>\n",
              "      <td>32.60</td>\n",
              "      <td>NaN</td>\n",
              "      <td>0.625736</td>\n",
              "      <td>0.996413</td>\n",
              "      <td>0.000057</td>\n",
              "      <td>-1.773389</td>\n",
              "      <td>0.032592</td>\n",
              "      <td>0.0</td>\n",
              "    </tr>\n",
              "    <tr>\n",
              "      <th>2</th>\n",
              "      <td>130.0</td>\n",
              "      <td>33.45</td>\n",
              "      <td>2.0</td>\n",
              "      <td>0.571782</td>\n",
              "      <td>0.997515</td>\n",
              "      <td>0.000044</td>\n",
              "      <td>-1.163876</td>\n",
              "      <td>0.023409</td>\n",
              "      <td>0.0</td>\n",
              "    </tr>\n",
              "    <tr>\n",
              "      <th>3</th>\n",
              "      <td>135.0</td>\n",
              "      <td>31.33</td>\n",
              "      <td>3.0</td>\n",
              "      <td>0.519048</td>\n",
              "      <td>0.998444</td>\n",
              "      <td>0.000032</td>\n",
              "      <td>-0.690621</td>\n",
              "      <td>0.015301</td>\n",
              "      <td>0.0</td>\n",
              "    </tr>\n",
              "    <tr>\n",
              "      <th>4</th>\n",
              "      <td>139.0</td>\n",
              "      <td>27.56</td>\n",
              "      <td>1.0</td>\n",
              "      <td>0.510259</td>\n",
              "      <td>0.998279</td>\n",
              "      <td>0.000036</td>\n",
              "      <td>-0.744306</td>\n",
              "      <td>0.016775</td>\n",
              "      <td>0.0</td>\n",
              "    </tr>\n",
              "  </tbody>\n",
              "</table>\n",
              "</div>"
            ],
            "text/plain": [
              "   strike  lastPrice  volume  impliedVolatility     Delta     Gamma     Theta  \\\n",
              "0   120.0      45.52     1.0           0.682620  0.995128  0.000068 -2.543945   \n",
              "1   125.0      32.60     NaN           0.625736  0.996413  0.000057 -1.773389   \n",
              "2   130.0      33.45     2.0           0.571782  0.997515  0.000044 -1.163876   \n",
              "3   135.0      31.33     3.0           0.519048  0.998444  0.000032 -0.690621   \n",
              "4   139.0      27.56     1.0           0.510259  0.998279  0.000036 -0.744306   \n",
              "\n",
              "       Vega  Rho  \n",
              "0  0.042857  0.0  \n",
              "1  0.032592  0.0  \n",
              "2  0.023409  0.0  \n",
              "3  0.015301  0.0  \n",
              "4  0.016775  0.0  "
            ]
          },
          "execution_count": 36,
          "metadata": {},
          "output_type": "execute_result"
        }
      ],
      "source": [
        "#filters calls for a strike at or above 100\n",
        "DF = options.calls[options.calls['strike'] >= 100]\n",
        "DF.reset_index(drop=True, inplace=True)\n",
        "\n",
        "#dataframe manipulation with selected fields\n",
        "DF = pd.DataFrame({'strike': DF['strike'], 'lastPrice': DF['lastPrice'], 'volume': DF['volume'], 'impliedVolatility': DF['impliedVolatility']})\n",
        "\n",
        "#derive greeks and assign to dataframe as columns\n",
        "DF['Delta'] = DF['Gamma'] = DF['Theta'] = DF['Vega'] = DF['Rho'] = 0.0\n",
        "\n",
        "for i in range(len(DF)):\n",
        "\n",
        "    DF['Delta'].iloc[i] = BS(spot, DF['strike'].iloc[i], rate, dte, DF['impliedVolatility'].iloc[i]).callDelta\n",
        "    DF['Gamma'].iloc[i] = BS(spot, DF['strike'].iloc[i], rate, dte, DF['impliedVolatility'].iloc[i]).gamma\n",
        "    DF['Theta'].iloc[i] = BS(spot, DF['strike'].iloc[i], rate, dte, DF['impliedVolatility'].iloc[i]).callTheta\n",
        "    DF['Vega'].iloc[i] = BS(spot, DF['strike'].iloc[i], rate, dte, DF['impliedVolatility'].iloc[i]).vega\n",
        "\n",
        "\n",
        "DF.head()"
      ]
    },
    {
      "cell_type": "code",
      "execution_count": null,
      "metadata": {
        "id": "spJDy0l0N3oZ",
        "outputId": "fac5cea5-397d-45d0-c2ee-1e1fed8dc71b"
      },
      "outputs": [
        {
          "data": {
            "image/png": "[encoded data removed]",
            "text/plain": [
              "<Figure size 2000x1000 with 4 Axes>"
            ]
          },
          "metadata": {},
          "output_type": "display_data"
        }
      ],
      "source": [
        "#plot graph\n",
        "\n",
        "fig, ax = plt.subplots(2,2,figsize = (20,10))\n",
        "\n",
        "ax[0,0].plot(DF['strike'], DF['Delta'], color = 'red', label = 'MAI 23')\n",
        "ax[0,1].plot(DF['strike'], DF['Gamma'], color = 'blue', label = 'MAI 23')\n",
        "ax[1,0].plot(DF['strike'], DF['Vega'], color = 'green', label = 'MAI 23')\n",
        "ax[1,1].plot(DF['strike'], DF['Theta'], color = 'black', label = 'MAI 23')\n",
        "\n",
        "#set axis title\n",
        "ax[0,0].set_title('Delta'), ax[0,1].set_title('Gamma'), ax[1,0].set_title('Vega'), ax[1,1].set_title('Theta')\n",
        "\n",
        "#define legend\n",
        "ax[0,0].legend(), ax[0,1].legend(), ax[1,0].legend(), ax[1,1].legend()\n",
        "\n",
        "#set title\n",
        "fig.suptitle('Greeks vs Strike Price', fontsize = 20)\n",
        "\n",
        "plt.show()"
      ]
    },
    {
      "cell_type": "code",
      "execution_count": null,
      "metadata": {
        "id": "T8_8abkPN3oZ"
      },
      "outputs": [],
      "source": []
    }
  ],
  "metadata": {
    "kernelspec": {
      "display_name": "doctrine",
      "language": "python",
      "name": "python3"
    },
    "language_info": {
      "codemirror_mode": {
        "name": "ipython",
        "version": 3
      },
      "file_extension": ".py",
      "mimetype": "text/x-python",
      "name": "python",
      "nbconvert_exporter": "python",
      "pygments_lexer": "ipython3",
      "version": "3.10.9"
    },
    "orig_nbformat": 4,
    "vscode": {
      "interpreter": {
        "hash": "c33b42db0001f1630d0bae1155f8ab05b04e6af36094234bb6f5be466d7a2f33"
      }
    },
    "colab": {
      "provenance": [],
      "include_colab_link": true
    }
  },
  "nbformat": 4,
  "nbformat_minor": 0
}